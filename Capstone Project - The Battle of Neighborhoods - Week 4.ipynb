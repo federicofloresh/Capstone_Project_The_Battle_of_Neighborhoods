{
 "cells": [
  {
   "cell_type": "markdown",
   "metadata": {},
   "source": [
    "# This file is for the Assignment of Week 4 - Part 1 and Part 2"
   ]
  },
  {
   "cell_type": "markdown",
   "metadata": {},
   "source": [
    "# Introduction"
   ]
  },
  {
   "cell_type": "markdown",
   "metadata": {},
   "source": [
    "## Description of the Problem and Discuss of the background"
   ]
  },
  {
   "cell_type": "markdown",
   "metadata": {},
   "source": [
    "Argentina is located in South America, it is one of the biggest countries in the region. His population is around 40 million, the most important city is Buenos Aires, specially Autonomous City of Buenos Aires (CABA). \n",
    "\n",
    "CABA has 3 million of inhabitants in his neighborhoods. The argentinian people is a mixture of different nacionalities: spanishs, italians, frenchs, uruguayans, bolivian, etc. For this reason, there is a lot of ethnic restaurants and places with cultures and foreing traditions. This is an oportunity for inmigrants and people who want place a tematical restaurant. \n",
    "\n",
    "In my Final Project, I will analyse with differents sources, the neighborhoods in CABA for search one potential place for begin a Italian Restaurant. \n",
    "\n"
   ]
  },
  {
   "cell_type": "markdown",
   "metadata": {},
   "source": [
    "## Description of the Data and it's use"
   ]
  },
  {
   "cell_type": "markdown",
   "metadata": {},
   "source": [
    "In this project I will use different sources, next I mention it:\n",
    "\n",
    "- Neighborhoods Buenos Aires (CABA) \n",
    "\n",
    "Link: http://cdn.buenosaires.gob.ar/datosabiertos/datasets/barrios/barrios.geojson\n",
    "\n",
    "Source: Goverment of Buenos Aires\n",
    "\n",
    "It contain a list of neighborhood of Buenos Aires with his latitude and longitude values.\n",
    "\n",
    "- Square Meter Price \n",
    "\n",
    "Link: http://cdn.buenosaires.gob.ar/datosabiertos/datasets/acceso-vivienda-y-mercado-inmobiliario/precio-venta-deptos.csv\n",
    "Source: Goverment of Buenos Aires\n",
    "\n",
    "It contain the average price for deparments in dollars. \n",
    "\n",
    "- Criminal acts\n",
    "\n",
    "Link: https://cdn.buenosaires.gob.ar/datosabiertos/datasets/ministerio-de-justicia-y-seguridad/delitos/delitos_2019.csv\n",
    "Source: Goverment of Buenos Aires\n",
    "\n",
    "It contain the criminal acts like as robberies and homicides and his location. \n",
    "\n",
    "- Cultural places/dependencies\n",
    "\n",
    "Link: http://cdn.buenosaires.gob.ar/datosabiertos/datasets/dependencias-culturales/dependencias-culturales.csv\n",
    "Source: Goverment of Buenos Aires\n",
    "\n",
    "It contain a list of different cultural places like as museums, cinemas, theaters, etc. \n",
    "\n",
    "- Venues of Foursquare API : restaurants, bars, stores and others\n",
    "\n",
    "Link: https://foursquare.com/\n",
    "Source: Fousquare\n",
    "\n",
    "I will use these data for make a study with exploratory analysis and geospatial analysis. Also, I will include maps for a better compression and finally, I will take a decision based on results.\n",
    "\n",
    "\n"
   ]
  },
  {
   "cell_type": "markdown",
   "metadata": {},
   "source": [
    "**AUTHOR: FEDERICO FLORES**"
   ]
  }
 ],
 "metadata": {
  "kernelspec": {
   "display_name": "Python 3",
   "language": "python",
   "name": "python3"
  },
  "language_info": {
   "codemirror_mode": {
    "name": "ipython",
    "version": 3
   },
   "file_extension": ".py",
   "mimetype": "text/x-python",
   "name": "python",
   "nbconvert_exporter": "python",
   "pygments_lexer": "ipython3",
   "version": "3.8.7"
  }
 },
 "nbformat": 4,
 "nbformat_minor": 4
}
